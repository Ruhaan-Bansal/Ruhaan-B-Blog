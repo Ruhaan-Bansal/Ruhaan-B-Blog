{
 "cells": [
  {
   "cell_type": "raw",
   "metadata": {
    "vscode": {
     "languageId": "raw"
    }
   },
   "source": [
    "---\n",
    "layout: post\n",
    "title: Variables Popcorn Hax\n",
    "description: Exercises to do mid-lesson, when instructed. Designed to be fairly easy and help you apply a basic understanding of variables you should already have from the lesson.\n",
    "type: collab\n",
    "comments: false\n",
    "categories: [CSSE JavaScript Fundamentals]\n",
    "permalink: /csse/lessons/variables/popcornHack\n",
    "---"
   ]
  },
  {
   "cell_type": "markdown",
   "metadata": {},
   "source": [
    "<h1>Popcorn Hax</h1>\n",
    "\n",
    "To access printed results using console.log, follow this simple set of steps.\n",
    "1: Access the \"Help\" button near the top of your screen (next to to \"Terminal\" and \"Window). It looks something like this on macOS:<br>\n",
    "<img width=\"844\" alt=\"image\" src=\"https://github.com/user-attachments/assets/18465a9b-e7e3-4f9d-8653-3ede47e2dfc6\" />\n",
    "<br>\n",
    "After clicking help, the drop-down menu should have a \"Toggle Developer Tools\" option. Click it, and navigate to the console menu.\n",
    "Then, look for a little O with a line through it. Click this to clear the console.\n",
    "\n",
    "<h2>Lesson 1, Exercise 1:</h2><br>\n",
    "Define a variable \"charHealth\" as an integer value of 100. Then, run a command to print the value and type of charHealth.\n"
   ]
  },
  {
   "cell_type": "code",
   "execution_count": 14,
   "metadata": {
    "vscode": {
     "languageId": "javascript"
    }
   },
   "outputs": [
    {
     "data": {
      "application/javascript": "//On this line, define charHealth.\nlet charHealth = 100.0;\n//Run the command to print charHealth's value here.\nconsole.log(charHealth);\n//Expected output: 100.0\n\n//Run the command to check the type of variable here.\nconsole.log(typeof charHealth);\n//Expected output: number\n",
      "text/plain": [
       "<IPython.core.display.Javascript object>"
      ]
     },
     "metadata": {},
     "output_type": "display_data"
    }
   ],
   "source": [
    "%%js\n",
    "//On this line, define charHealth.\n",
    "let charHealth = 100.0;\n",
    "//Run the command to print charHealth's value here.\n",
    "console.log(charHealth);\n",
    "//Expected output: 100.0\n",
    "\n",
    "//Run the command to check the type of variable here.\n",
    "console.log(typeof charHealth);\n",
    "//Expected output: number"
   ]
  },
  {
   "cell_type": "markdown",
   "metadata": {},
   "source": [
    "<h2>Exercise 2:</h2><br>\n",
    "Define two variables: \"charHealth\" and \"damage\". Then, combine the two to update charHealth. Make sure they are the same type of variable - otherwise, you will not be able to combine them."
   ]
  },
  {
   "cell_type": "code",
   "execution_count": 15,
   "metadata": {
    "vscode": {
     "languageId": "javascript"
    }
   },
   "outputs": [
    {
     "data": {
      "application/javascript": "//Define variables up here. Make sure they are both numbers.\nlet charHealth = 100.0;\nconst damage = 99.99999;\n\n//Note: const used for damage here for no particular reason other than some basic logic: health is a dynamically changing variable, \n//but this source of damage is just there as a constant, meant to change health by a certain amount.\n\n//Update charHealth after the player has taken damage. The character should lose health relative to damage taken. Print your results.\ncharHealth -= damage;\nconsole.log(charHealth);\n//Expected output: 0.000001\n",
      "text/plain": [
       "<IPython.core.display.Javascript object>"
      ]
     },
     "metadata": {},
     "output_type": "display_data"
    }
   ],
   "source": [
    "%%js\n",
    "//Define variables up here. Make sure they are both numbers.\n",
    "let charHealth = 100.0;\n",
    "const damage = 99.99999;\n",
    "\n",
    "//Note: const used for damage here for no particular reason other than some basic logic: health is a dynamically changing variable, \n",
    "//but this source of damage is just there as a constant, meant to change health by a certain amount.\n",
    "\n",
    "//Update charHealth after the player has taken damage. The character should lose health relative to damage taken. Print your results.\n",
    "charHealth -= damage;\n",
    "console.log(charHealth);\n",
    "//Expected output: 0.000001"
   ]
  },
  {
   "cell_type": "markdown",
   "metadata": {},
   "source": [
    "<h2>Exercise 3:</h2><br>\n",
    "Create two parts of a message, and store each part as a separate variable. Combine these variables into a new one, finalMessage, and print its results."
   ]
  },
  {
   "cell_type": "code",
   "execution_count": 16,
   "metadata": {
    "vscode": {
     "languageId": "javascript"
    }
   },
   "outputs": [
    {
     "data": {
      "application/javascript": "//Define variables and combine them here\nlet messagePart1 = \"Hello, \";\nlet messagePart2 = \"universe!\"\nlet finalMessage = messagePart1 + messagePart2;\n//Print results here.\nconsole.log(finalMessage);\n//Expected output: Hello, world!\n",
      "text/plain": [
       "<IPython.core.display.Javascript object>"
      ]
     },
     "metadata": {},
     "output_type": "display_data"
    }
   ],
   "source": [
    "%%js\n",
    "//Define variables and combine them here\n",
    "let messagePart1 = \"Hello, \";\n",
    "let messagePart2 = \"universe!\"\n",
    "let finalMessage = messagePart1 + messagePart2;\n",
    "//Print results here.\n",
    "console.log(finalMessage);\n",
    "//Expected output: Hello, world!"
   ]
  },
  {
   "cell_type": "markdown",
   "metadata": {},
   "source": [
    "<b1>\n",
    "Make sure to end each line with a semicolon (;). \n",
    "<br>Part 2: Using this if conditional, see if you can get the console to output \"You have successfully manipulated these strings! Good Job!\" If you don't get the desired result, try again.\n",
    "</b1>"
   ]
  },
  {
   "cell_type": "code",
   "execution_count": 17,
   "metadata": {
    "vscode": {
     "languageId": "javascript"
    }
   },
   "outputs": [
    {
     "data": {
      "application/javascript": "let m1 = \"Hello, \";\nlet m2 = \"universe!\"; \nif (m1 + m2 === \"Hello, universe!\"){\n    console.log(\"You have successfully manipulated these strings! Good Job!\");\n} else {\n    console.log(\"Failed to match strings. Try again.\");\n}\nconsole.log(m1 + m2);\n\n//Alternatively, you could have made m1 and m2 something like this:\nm1 = \"Hello, universe\";\nm2 = \"!\";  \nif (m1 + m2 === \"Hello, universe!\"){\n    console.log(\"You have successfully manipulated these strings! Good Job!\");\n} else {\n    console.log(\"Failed to match strings. Try again.\");\n}\n\nconsole.log(m1 + m2); //Still outputs the same thing as the old version. As long as the combined version is \"Hello, world!\" this will work.\n",
      "text/plain": [
       "<IPython.core.display.Javascript object>"
      ]
     },
     "metadata": {},
     "output_type": "display_data"
    }
   ],
   "source": [
    "%%js\n",
    "let m1 = \"Hello, \";\n",
    "let m2 = \"universe!\"; \n",
    "if (m1 + m2 === \"Hello, universe!\"){\n",
    "    console.log(\"You have successfully manipulated these strings! Good Job!\");\n",
    "} else {\n",
    "    console.log(\"Failed to match strings. Try again.\");\n",
    "}\n",
    "console.log(m1 + m2);\n",
    "\n",
    "//Alternatively, you could have made m1 and m2 something like this:\n",
    "m1 = \"Hello, universe\";\n",
    "m2 = \"!\";  \n",
    "if (m1 + m2 === \"Hello, universe!\"){\n",
    "    console.log(\"You have successfully manipulated these strings! Good Job!\");\n",
    "} else {\n",
    "    console.log(\"Failed to match strings. Try again.\");\n",
    "}\n",
    "\n",
    "console.log(m1 + m2); //Still outputs the same thing as the old version. As long as the combined version is \"Hello, world!\" this will work."
   ]
  },
  {
   "cell_type": "markdown",
   "metadata": {},
   "source": [
    "Try defining a score variable and a string that displays the player's score. A very basic version of this has been set up for you here, using Math.random() to get a random number."
   ]
  },
  {
   "cell_type": "code",
   "execution_count": 18,
   "metadata": {
    "vscode": {
     "languageId": "javascript"
    }
   },
   "outputs": [
    {
     "data": {
      "application/javascript": "let gambling = Math.round(200 * Math.random()) \nlet gamblingTalk = `Let's go gambling! CHANK-CHANK-CHANK-${gambling}! Aww, dang it` //funny meme :3\nconsole.log(gamblingTalk); //Prints result.\n",
      "text/plain": [
       "<IPython.core.display.Javascript object>"
      ]
     },
     "metadata": {},
     "output_type": "display_data"
    }
   ],
   "source": [
    "%%js \n",
    "let gambling = Math.round(200 * Math.random()) \n",
    "let gamblingTalk = `Let's go gambling! CHANK-CHANK-CHANK-${gambling}! Aww, dang it` //funny meme :3\n",
    "console.log(gamblingTalk); //Prints result."
   ]
  },
  {
   "cell_type": "markdown",
   "metadata": {},
   "source": [
    "Lastly, here's a quick way to learn the difference between =, ==, and ===."
   ]
  },
  {
   "cell_type": "code",
   "execution_count": 19,
   "metadata": {
    "vscode": {
     "languageId": "javascript"
    }
   },
   "outputs": [
    {
     "data": {
      "application/javascript": "let m1 = \"5\"; //This is a string.\nlet m2 = 5; //This is a number.\nconsole.log(m1 == m2);\n//True due to loose being, well, loose (and only checking content).\nconsole.log(m1 === m2);\n//False due to strict equality checking for type as well as content.\n",
      "text/plain": [
       "<IPython.core.display.Javascript object>"
      ]
     },
     "metadata": {},
     "output_type": "display_data"
    }
   ],
   "source": [
    "%%js\n",
    "let m1 = \"5\"; //This is a string.\n",
    "let m2 = 5; //This is a number.\n",
    "console.log(m1 == m2);\n",
    "//True due to loose being, well, loose (and only checking content).\n",
    "console.log(m1 === m2);\n",
    "//False due to strict equality checking for type as well as content."
   ]
  },
  {
   "cell_type": "markdown",
   "metadata": {},
   "source": [
    "<h2>Exercise 4:</h2><br>\n",
    "Here, a Math.random function creates a number from 0 to 1. Using the conditional set up for you and your knowledge of booleans, create a system that checks if the number created is greater than 0.7."
   ]
  },
  {
   "cell_type": "code",
   "execution_count": 20,
   "metadata": {
    "vscode": {
     "languageId": "javascript"
    }
   },
   "outputs": [
    {
     "data": {
      "application/javascript": "let isGreaterThan = false; //By default, this is false. That means if the program doesn't change it, \n                           //it will stay false and output false (which is what we want).\nlet randomNum = Math.random(); //Random number\nif (randomNum > 0.5) { \n    isGreaterThan = true;\n} \nconsole.log(isGreaterThan); //Outputs the value of isGreaterThan\n\n//Should get true and false values (though more false than true).\n",
      "text/plain": [
       "<IPython.core.display.Javascript object>"
      ]
     },
     "metadata": {},
     "output_type": "display_data"
    }
   ],
   "source": [
    "%%js\n",
    "let isGreaterThan = false; //By default, this is false. That means if the program doesn't change it, \n",
    "                           //it will stay false and output false (which is what we want).\n",
    "let randomNum = Math.random(); //Random number\n",
    "if (randomNum > 0.5) { \n",
    "    isGreaterThan = true;\n",
    "} \n",
    "console.log(isGreaterThan); //Outputs the value of isGreaterThan\n",
    "\n",
    "//Should get true and false values (though more false than true).\n"
   ]
  },
  {
   "cell_type": "markdown",
   "metadata": {},
   "source": [
    "<h2>Exercise 5:</h2><br>\n",
    "- Fix this code to correctly output the type of data message1 is.\n",
    "- In code, undefined and null are not used intentionally very often. This exercise is an example on why it is useful: since message1 is not defined, you can check this with console.log(). If this results in an undefined output, you can go change the variable to be correctly defined."
   ]
  },
  {
   "cell_type": "code",
   "execution_count": 21,
   "metadata": {
    "vscode": {
     "languageId": "javascript"
    }
   },
   "outputs": [
    {
     "data": {
      "application/javascript": "// We will have several possible answers in the following cells. \n// If you kept the variable as message1, it makes sense to use a string. Otherwise, go nuts variable-wise.\nlet message1 = 20; \nconsole.log(message1);\nconsole.log(typeof message1);\n",
      "text/plain": [
       "<IPython.core.display.Javascript object>"
      ]
     },
     "metadata": {},
     "output_type": "display_data"
    }
   ],
   "source": [
    "%%js\n",
    "// We will have several possible answers in the following cells. \n",
    "// If you kept the variable as message1, it makes sense to use a string. Otherwise, go nuts variable-wise.\n",
    "let message1 = 20; \n",
    "console.log(message1);\n",
    "console.log(typeof message1);"
   ]
  },
  {
   "cell_type": "markdown",
   "metadata": {},
   "source": [
    "<h2>Exercise 6:</h2><br>\n",
    "Create a bigInt with a value of your choosing. Check to make sure it's a big enough number. The highest number in JS is 9007199254740990, and can be referenced with the property Number.MAX_SAFE_INTEGER."
   ]
  },
  {
   "cell_type": "code",
   "execution_count": 22,
   "metadata": {
    "vscode": {
     "languageId": "javascript"
    }
   },
   "outputs": [
    {
     "data": {
      "application/javascript": "let bigNumber = 12345678900987654321 //Pick a big number. End it with n to make sure it's a bigInt type of variable.\nlet x = Number.MAX_SAFE_INTEGER;\nconsole.log(bigNumber > x ); //Check to make sure your number is big enough (so, bigger than x). You're looking for a \"true\" output.\nconsole.log(bigNumber); //Big number go brrrrr\n",
      "text/plain": [
       "<IPython.core.display.Javascript object>"
      ]
     },
     "metadata": {},
     "output_type": "display_data"
    }
   ],
   "source": [
    "%%js\n",
    "let bigNumber = 12345678900987654321 //Pick a big number. End it with n to make sure it's a bigInt type of variable.\n",
    "let x = Number.MAX_SAFE_INTEGER;\n",
    "console.log(bigNumber > x ); //Check to make sure your number is big enough (so, bigger than x). You're looking for a \"true\" output.\n",
    "console.log(bigNumber); //Big number go brrrrr"
   ]
  },
  {
   "cell_type": "markdown",
   "metadata": {},
   "source": [
    "<h2>Exercise 7:</h2><br>\n",
    "- Create a \"player\" object with as many properties as you can think of. A minimum of 5 properties and at least 3 different types of variables must be used to complete this exercise.\n",
    "- After this, print 2 of those variables. One has already been done for you, and the other started. Lastly, change the player's health and print it again."
   ]
  },
  {
   "cell_type": "code",
   "execution_count": 23,
   "metadata": {
    "vscode": {
     "languageId": "javascript"
    }
   },
   "outputs": [
    {
     "data": {
      "application/javascript": "let player = {\n    name: \"pika43\", \n    health: 100,\n    weapon = \"Knife\",\n    score = 10000000000,\n};\n\nconsole.log(player.name);\nconsole.log(player.weapon);\n\nplayer.health = 1;\nconsole.log(player.health); //Ouch\n",
      "text/plain": [
       "<IPython.core.display.Javascript object>"
      ]
     },
     "metadata": {},
     "output_type": "display_data"
    }
   ],
   "source": [
    "%%js\n",
    "let player = {\n",
    "    name: \"pika43\", \n",
    "    health: 100,\n",
    "    weapon = \"Knife\",\n",
    "    score = 10000000000,\n",
    "};\n",
    "\n",
    "console.log(player.name);\n",
    "console.log(player.weapon);\n",
    "\n",
    "player.health = 1;\n",
    "console.log(player.health); //Ouch"
   ]
  },
  {
   "cell_type": "markdown",
   "metadata": {},
   "source": [
    "<h2>Exercise 8:</h2><br>\n",
    "Create a \"user\" object with a password variable as a symbol. Other than that, customize the object similarly to the previous exercise (Minimum of 5 variables, minimum of 3 types). There's a nifty little bonus at the bottom of this exercise which shows the power of symbols."
   ]
  },
  {
   "cell_type": "code",
   "execution_count": 24,
   "metadata": {
    "vscode": {
     "languageId": "javascript"
    }
   },
   "outputs": [
    {
     "data": {
      "application/javascript": "const password = Symbol(); // Defines the password symbol. It's okay to leave this empty, as you will assign the symbol a value in the object.\nconst backupPassword = Symbol(); \nlet user = {\n    [password]: \"WHYDOESMR.MORTENSENGIVE0.90\", // Assign the symbol a value here. (Comma added)\n    [backupPassword]: \"GIVEEVERYONE100\",  // Assign your backup password a value. Make this the same as your default password. (Comma added)\n    username: \"pika43\" // Fill in the rest of the object's properties. Replace this username with your own.\n};\n\n// Referencing symbols looks like this:\nconsole.log(user[password]); // Outputs the value of \"password\" you assigned earlier.\nconsole.log(user[backupPassword]); // Outputs the value of \"backupPassword\".\nconsole.log(user.username); // Outputs \"pika43\".\n",
      "text/plain": [
       "<IPython.core.display.Javascript object>"
      ]
     },
     "metadata": {},
     "output_type": "display_data"
    }
   ],
   "source": [
    "%%js\n",
    "const password = Symbol(); // Defines the password symbol. It's okay to leave this empty, as you will assign the symbol a value in the object.\n",
    "const backupPassword = Symbol(); \n",
    "let user = {\n",
    "    [password]: \"WHYDOESMR.MORTENSENGIVE0.90\", // Assign the symbol a value here. (Comma added)\n",
    "    [backupPassword]: \"GIVEEVERYONE100\",  // Assign your backup password a value. Make this the same as your default password. (Comma added)\n",
    "    username: \"pika43\" // Fill in the rest of the object's properties. Replace this username with your own.\n",
    "};\n",
    "\n",
    "// Referencing symbols looks like this:\n",
    "console.log(user[password]); // Outputs the value of \"password\" you assigned earlier.\n",
    "console.log(user[backupPassword]); // Outputs the value of \"backupPassword\".\n",
    "console.log(user.username); // Outputs \"pika43\".\n"
   ]
  },
  {
   "cell_type": "markdown",
   "metadata": {},
   "source": [
    "<h2>Lesson 2, Exercise 1:</h2>\n",
    "<b1>\n",
    "btw, classes are thing that you will learn later. I'm not explaining them now jus roll with it\n",
    "</b1>"
   ]
  },
  {
   "cell_type": "markdown",
   "metadata": {},
   "source": [
    "Imagine this: you have a brand-spankin' shiny new game that you made, and you want to keep track of how many players you have. Using context clues and my helpful comments, fill in the blanks."
   ]
  },
  {
   "cell_type": "markdown",
   "metadata": {},
   "source": [
    "Next, try and see if you can make the player number increase."
   ]
  },
  {
   "cell_type": "code",
   "execution_count": 25,
   "metadata": {
    "vscode": {
     "languageId": "javascript"
    }
   },
   "outputs": [
    {
     "data": {
      "application/javascript": "class Player {\n    static totalPlayers = 0 //Hmm I wonder what the constant, \"global\" variable could be in this context (pick from either totalPlayers or name)\n\n    constructor(name) {\n        this.name = name // I wonder what name could be\n        this.id = ++Player.totalPlayers\n    }\n\n    static getTotalPlayers() { // this is the thing that will give you the number of players\n        return Player.totalPlayers\n    }\n}\nconst player1 = new Player(\"MrBeast\")\nconst player2 = new Player(\"PrestonPLAYZ\")\n// I wonder if making new players would increase the player count\n\nconsole.log(Player.getTotalPlayers()) // you want to print the *function* that will give you the player numbers.\n",
      "text/plain": [
       "<IPython.core.display.Javascript object>"
      ]
     },
     "metadata": {},
     "output_type": "display_data"
    }
   ],
   "source": [
    "%%js \n",
    "class Player {\n",
    "    static totalPlayers = 0 //Hmm I wonder what the constant, \"global\" variable could be in this context (pick from either totalPlayers or name)\n",
    "\n",
    "    constructor(name) {\n",
    "        this.name = name // I wonder what name could be\n",
    "        this.id = ++Player.totalPlayers\n",
    "    }\n",
    "\n",
    "    static getTotalPlayers() { // this is the thing that will give you the number of players\n",
    "        return Player.totalPlayers\n",
    "    }\n",
    "}\n",
    "const player1 = new Player(\"MrBeast\")\n",
    "const player2 = new Player(\"PrestonPLAYZ\")\n",
    "// I wonder if making new players would increase the player count\n",
    "\n",
    "console.log(Player.getTotalPlayers()) // you want to print the *function* that will give you the player numbers."
   ]
  },
  {
   "cell_type": "markdown",
   "metadata": {},
   "source": [
    "<h2>Exercise Dos</h2>"
   ]
  },
  {
   "cell_type": "code",
   "execution_count": 26,
   "metadata": {
    "vscode": {
     "languageId": "javascript"
    }
   },
   "outputs": [
    {
     "data": {
      "application/javascript": "class Car {\n    constructor(color, model) {\n        this.color = color;    // Instance variable\n        this.model = model; //Set up another instanced variable\n    }\n}\n\nconst car1 = new Car(\"Red \", \"2024 Nissan Leaf\");\nconst car2 = new Car(\"Blue \", \"2019 Honda Odyssey\");\n\nconsole.log(car1.color + car1.model);  // Prints car colors and models. Make sure to reference the instanced variable here.\nconsole.log(car2.color + car2.model);  \n\ncar1.color = \"Yellow \";    // Only changes car1.\nconsole.log(car1.color + car1.model);  // Logs changes.\nconsole.log(car2.color + car2.model);  // No change from earlier.\n",
      "text/plain": [
       "<IPython.core.display.Javascript object>"
      ]
     },
     "metadata": {},
     "output_type": "display_data"
    }
   ],
   "source": [
    "%%js\n",
    "class Car {\n",
    "    constructor(color, model) {\n",
    "        this.color = color;    // Instance variable\n",
    "        this.model = model; //Set up another instanced variable\n",
    "    }\n",
    "}\n",
    "\n",
    "const car1 = new Car(\"Red \", \"2024 Nissan Leaf\");\n",
    "const car2 = new Car(\"Blue \", \"2019 Honda Odyssey\");\n",
    "\n",
    "console.log(car1.color + car1.model);  // Prints car colors and models. Make sure to reference the instanced variable here.\n",
    "console.log(car2.color + car2.model);  \n",
    "\n",
    "car1.color = \"Yellow \";    // Only changes car1.\n",
    "console.log(car1.color + car1.model);  // Logs changes.\n",
    "console.log(car2.color + car2.model);  // No change from earlier."
   ]
  }
 ],
 "metadata": {
  "kernelspec": {
   "display_name": "Python 3",
   "language": "python",
   "name": "python3"
  },
  "language_info": {
   "codemirror_mode": {
    "name": "ipython",
    "version": 3
   },
   "file_extension": ".py",
   "mimetype": "text/x-python",
   "name": "python",
   "nbconvert_exporter": "python",
   "pygments_lexer": "ipython3",
   "version": "3.11.9"
  }
 },
 "nbformat": 4,
 "nbformat_minor": 2
}
