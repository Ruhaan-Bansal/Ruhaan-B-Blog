{
 "cells": [
  {
   "cell_type": "raw",
   "metadata": {
    "vscode": {
     "languageId": "raw"
    }
   },
   "source": [
    "---\n",
    "layout: post\n",
    "title: Nested Conditionals Homework\n",
    "description:  Homework for nested conditonals\n",
    "type: collab \n",
    "comments: false\n",
    "categories: [CSSE JavaScript Fundametals]\n",
    "permalink: /csse/lessons/nestedconditionals/hw\n",
    "---"
   ]
  },
  {
   "cell_type": "markdown",
   "metadata": {},
   "source": [
    "### Homework Objectives\n",
    "\n",
    "You and your friend want to do different things at the amusement park. To decide, you do a coin flip. Heads means that you get to choose where to go and tails means that your friend gets to choose. If you go on a ride, be sure to check if you are the right height and have enough tickets, and if you go to a food stand, make sure that you have enough money and that the food is in stock. Be creative, and make sure to use nested conditionals!"
   ]
  },
  {
   "cell_type": "markdown",
   "metadata": {},
   "source": [
    "### Instructions\n",
    "\n",
    "1) Create a JavaScript file (Ex. insertName.js)\n",
    "\n",
    "2) Plan out what you will be doing and make variables for the necessary things. There will be a coin flip, so make a variable for that. If there are rides, make a value for the amount of tickets the person has and what height they are. If they go to a food stand, you can make a variable for the amount of money that you have and if the food is in stock.\n",
    "\n",
    "3) Use Math.random() for the coin flip. This generates a number between 0 and 1, so then you multiply this value by 2 and put it inside Math.floor() to round down and get either 0 or 1. Make this the coin flip variable.\n",
    "\n",
    "4) Use an if statement to check what the result of the coin flip was and use console.log to print out a statement to see who won or lost the coin flip. Along with that, print out where they are going next.\n",
    "\n",
    "5) Use more if statements inside of if statements to check if the person can do what they want to do. (Are they tall enough, do they have enough money, etc.)\n",
    "\n",
    "6) After all the checks, print out a result of what happened. If you get stuck, you can look at the examples in the popcorn hacks. Please don't copy and paste, though! \n"
   ]
  },
  {
   "cell_type": "code",
   "execution_count": 24,
   "metadata": {
    "vscode": {
     "languageId": "javascript"
    }
   },
   "outputs": [
    {
     "data": {
      "application/javascript": "// Amusement Park Decision-Making\n\n// Step 1: Define the necessary variables\nlet tickets = 250; // Number of tickets available\nlet height = 120; // Height of the person in cm\nlet money = 20; // Amount of money available in dollars\nlet foodInStock = true; // Boolean indicating if food is available\n\n// Step 2: Define ride and food requirements\nconst rideTicketCost = 30; // Ticket cost for each ride\nconst minHeight = 110; // Minimum height required for a ride\nconst foodCost = 15; // Cost of food in dollars\n\n// Step 3: Define ride names\nlet rides = [\n    \"The Emperor of Doom\",\n    \"The Wheel of Fun\",\n    \"The Universe Rocket Adventure\",\n    \"The Water Ship of Terror\",\n    \"The Spooky Train of Frights\"\n];\n\n// Function to shuffle rides randomly to ensure a different order each time\nfunction shuffleArray(array) {\n    for (let i = array.length - 1; i > 0; i--) {\n        const j = Math.floor(Math.random() * (i + 1));\n        [array[i], array[j]] = [array[j], array[i]];\n    }\n    return array;\n}\n\n// Shuffle the rides so any ride can be first or last\nrides = shuffleArray(rides);\n\n// Function to simulate a coin flip to determine who makes a choice\nfunction flipCoin() {\n    return Math.floor(Math.random() * 2) === 0 ? \"You\" : \"Your friend\";\n}\n\n// Function to handle going on a ride together\nfunction goOnRide(rideName) {\n    let rideFlipWinner = flipCoin();\n    console.log(`${rideFlipWinner} won the coin flip and chooses the ride: ${rideName}`);\n    \n    console.log(`You and your friend are going on the ride: ${rideName}`);\n    // Check height requirement\n    if (height >= minHeight) {\n        // Check if there are enough tickets for both\n        if (tickets >= 2 * rideTicketCost) {\n            tickets -= 2 * rideTicketCost;\n            console.log(`Both of you went on the ride! Tickets remaining: ${tickets}`);\n        } else {\n            console.log(\"Not enough tickets for both to go on the ride.\");\n        }\n    } else {\n        console.log(\"One or both of you are not tall enough to go on the ride.\");\n    }\n}\n\n// Step 4: Go on each ride in random order\nrides.forEach((ride, index) => {\n    console.log(`\\nRide ${index + 1}:`);\n    goOnRide(ride);\n});\n\n// Step 5: Choose food stall after the rides\nconsole.log(\"After the rides, it's time for food!\");\nconst foodStalls = [\"Burger Mall\", \"Pizza Place\", \"Cake Corner Stand\"];\nconsole.log(\"Available food stalls:\", foodStalls.join(\", \"));\n\n// Flip a coin to determine who chooses the food stall\nlet foodFlipWinner = flipCoin();\nconsole.log(`${foodFlipWinner} won the coin flip and chooses the food stall!`);\nlet selectedFood = foodStalls[Math.floor(Math.random() * foodStalls.length)];\nconsole.log(`${foodFlipWinner} chooses to eat at: ${selectedFood}`);\n\n// Check if food is available and if there is enough money to buy it\nif (foodInStock) {\n    if (money >= foodCost) {\n        money -= foodCost;\n        console.log(`${foodFlipWinner} bought food. Money remaining: $${money}`);\n    } else {\n        console.log(\"Not enough money to buy food.\");\n    }\n} else {\n    console.log(\"The food is out of stock.\");\n}\n\n// End of amusement park visit\nconsole.log(\"Enjoy your day at the amusement park!\");\n",
      "text/plain": [
       "<IPython.core.display.Javascript object>"
      ]
     },
     "metadata": {},
     "output_type": "display_data"
    }
   ],
   "source": [
    "%%js \n",
    "// Amusement Park Decision-Making\n",
    "\n",
    "// Step 1: Define the necessary variables\n",
    "let tickets = 250; // Number of tickets available\n",
    "let height = 120; // Height of the person in cm\n",
    "let money = 20; // Amount of money available in dollars\n",
    "let foodInStock = true; // Boolean indicating if food is available\n",
    "\n",
    "// Step 2: Define ride and food requirements\n",
    "const rideTicketCost = 30; // Ticket cost for each ride\n",
    "const minHeight = 110; // Minimum height required for a ride\n",
    "const foodCost = 15; // Cost of food in dollars\n",
    "\n",
    "// Step 3: Define ride names\n",
    "let rides = [\n",
    "    \"The Emperor of Doom\",\n",
    "    \"The Wheel of Fun\",\n",
    "    \"The Universe Rocket Adventure\",\n",
    "    \"The Water Ship of Terror\",\n",
    "    \"The Spooky Train of Frights\"\n",
    "];\n",
    "\n",
    "// Function to shuffle rides randomly to ensure a different order each time\n",
    "function shuffleArray(array) {\n",
    "    for (let i = array.length - 1; i > 0; i--) {\n",
    "        const j = Math.floor(Math.random() * (i + 1));\n",
    "        [array[i], array[j]] = [array[j], array[i]];\n",
    "    }\n",
    "    return array;\n",
    "}\n",
    "\n",
    "// Shuffle the rides so any ride can be first or last\n",
    "rides = shuffleArray(rides);\n",
    "\n",
    "// Function to simulate a coin flip to determine who makes a choice\n",
    "function flipCoin() {\n",
    "    return Math.floor(Math.random() * 2) === 0 ? \"You\" : \"Your friend\";\n",
    "}\n",
    "\n",
    "// Function to handle going on a ride together\n",
    "function goOnRide(rideName) {\n",
    "    let rideFlipWinner = flipCoin();\n",
    "    console.log(`${rideFlipWinner} won the coin flip and chooses the ride: ${rideName}`);\n",
    "    \n",
    "    console.log(`You and your friend are going on the ride: ${rideName}`);\n",
    "    // Check height requirement\n",
    "    if (height >= minHeight) {\n",
    "        // Check if there are enough tickets for both\n",
    "        if (tickets >= 2 * rideTicketCost) {\n",
    "            tickets -= 2 * rideTicketCost;\n",
    "            console.log(`Both of you went on the ride! Tickets remaining: ${tickets}`);\n",
    "        } else {\n",
    "            console.log(\"Not enough tickets for both to go on the ride.\");\n",
    "        }\n",
    "    } else {\n",
    "        console.log(\"One or both of you are not tall enough to go on the ride.\");\n",
    "    }\n",
    "}\n",
    "\n",
    "// Step 4: Go on each ride in random order\n",
    "rides.forEach((ride, index) => {\n",
    "    console.log(`\\nRide ${index + 1}:`);\n",
    "    goOnRide(ride);\n",
    "});\n",
    "\n",
    "// Step 5: Choose food stall after the rides\n",
    "console.log(\"After the rides, it's time for food!\");\n",
    "const foodStalls = [\"Burger Mall\", \"Pizza Place\", \"Cake Corner Stand\"];\n",
    "console.log(\"Available food stalls:\", foodStalls.join(\", \"));\n",
    "\n",
    "// Flip a coin to determine who chooses the food stall\n",
    "let foodFlipWinner = flipCoin();\n",
    "console.log(`${foodFlipWinner} won the coin flip and chooses the food stall!`);\n",
    "let selectedFood = foodStalls[Math.floor(Math.random() * foodStalls.length)];\n",
    "console.log(`${foodFlipWinner} chooses to eat at: ${selectedFood}`);\n",
    "\n",
    "// Check if food is available and if there is enough money to buy it\n",
    "if (foodInStock) {\n",
    "    if (money >= foodCost) {\n",
    "        money -= foodCost;\n",
    "        console.log(`${foodFlipWinner} bought food. Money remaining: $${money}`);\n",
    "    } else {\n",
    "        console.log(\"Not enough money to buy food.\");\n",
    "    }\n",
    "} else {\n",
    "    console.log(\"The food is out of stock.\");\n",
    "}\n",
    "\n",
    "// End of amusement park visit\n",
    "console.log(\"Enjoy your day at the amusement park!\");"
   ]
  }
 ],
 "metadata": {
  "kernelspec": {
   "display_name": "Python 3",
   "language": "python",
   "name": "python3"
  },
  "language_info": {
   "codemirror_mode": {
    "name": "ipython",
    "version": 3
   },
   "file_extension": ".py",
   "mimetype": "text/x-python",
   "name": "python",
   "nbconvert_exporter": "python",
   "pygments_lexer": "ipython3",
   "version": "3.11.9"
  }
 },
 "nbformat": 4,
 "nbformat_minor": 2
}
