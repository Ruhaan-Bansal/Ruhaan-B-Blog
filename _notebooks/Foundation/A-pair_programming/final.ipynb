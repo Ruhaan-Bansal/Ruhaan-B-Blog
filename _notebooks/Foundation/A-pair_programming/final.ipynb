{
 "cells": [
  {
   "cell_type": "raw",
   "metadata": {
    "vscode": {
     "languageId": "raw"
    }
   },
   "source": [
    "---\n",
    "layout: post\n",
    "title: Final Exam CSSE 1 Extra Review\n",
    "description: Solo review for CSSE 1 \n",
    "type: collab\n",
    "comments: true\n",
    "permalink: /csse1final/solo\n",
    "---"
   ]
  },
  {
   "cell_type": "markdown",
   "metadata": {},
   "source": [
    "## Final Exam CSSE 1 \n",
    "\n",
    "### Solo Review "
   ]
  },
  {
   "cell_type": "markdown",
   "metadata": {},
   "source": [
    "##### For the three tinkers I made on the adventure game I will be showing one in particular detail.\n",
    "\n",
    "##### The tinker is the class collision in which I layered the collision block over the rock in the background so that the player can't go forward or move ahead without answering the questions."
   ]
  },
  {
   "cell_type": "markdown",
   "metadata": {},
   "source": [
    "##### To make sure that the collision is layered over the rock and provides the player questions I created a file called collision.js. The code file is underneath"
   ]
  },
  {
   "cell_type": "code",
   "execution_count": 4,
   "metadata": {
    "vscode": {
     "languageId": "javascript"
    }
   },
   "outputs": [
    {
     "ename": "SyntaxError",
     "evalue": "unterminated string literal (detected at line 72) (1656288621.py, line 72)",
     "output_type": "error",
     "traceback": [
      "\u001b[1;36m  Cell \u001b[1;32mIn[4], line 72\u001b[1;36m\u001b[0m\n\u001b[1;33m    // Open the Prompt panel with this Collision's details\u001b[0m\n\u001b[1;37m                                                ^\u001b[0m\n\u001b[1;31mSyntaxError\u001b[0m\u001b[1;31m:\u001b[0m unterminated string literal (detected at line 72)\n"
     ]
    }
   ],
   "source": [
    "import GameEnv from \"./GameEnv.js\";\n",
    "import Character from \"./Character.js\";\n",
    "import Prompt from \"./Prompt.js\";\n",
    "class Collision extends Character {\n",
    "    constructor(data = null) {\n",
    "        super(data);\n",
    "        this.quiz = data?.quiz?.title; // Quiz title\n",
    "        this.questions = Prompt.shuffleArray(data?.quiz?.questions || []); // Shuffle questions\n",
    "        this.currentQuestionIndex = 0; // Start from the first question\n",
    "        this.alertTimeout = null;\n",
    "        this.bindEventListeners();\n",
    "    }\n",
    "    /**\n",
    "     * Override the update method to draw the collision.\n",
    "     * This collision is stationary, so the update method only calls the draw method.\n",
    "     */\n",
    "    update() {\n",
    "        this.draw();\n",
    "    }\n",
    "    /**\n",
    "     * Bind key event listeners for proximity interaction.\n",
    "     */\n",
    "    bindEventListeners() {\n",
    "        addEventListener('keydown', this.handleKeyDown.bind(this));\n",
    "        addEventListener('keyup', this.handleKeyUp.bind(this));\n",
    "    }\n",
    "    /**\n",
    "     * Handle keydown events for interaction.\n",
    "     * @param {Object} event - The keydown event.\n",
    "     */\n",
    "    handleKeyDown({ key }) {\n",
    "        switch (key) {\n",
    "            case 'e': // Player 1 interaction\n",
    "            case 'u': // Player 2 interaction\n",
    "                this.shareQuizQuestion();\n",
    "                break;\n",
    "        }\n",
    "    }\n",
    "    /**\n",
    "     * Handle keyup events to stop player actions.\n",
    "     * @param {Object} event - The keyup event.\n",
    "     */\n",
    "    handleKeyUp({ key }) {\n",
    "        if (key === 'e' || key === 'u') {\n",
    "            // Clear any active timeouts when the interaction key is released\n",
    "            if (this.alertTimeout) {\n",
    "                clearTimeout(this.alertTimeout);\n",
    "                this.alertTimeout = null;\n",
    "            }\n",
    "        }\n",
    "    }\n",
    "    /**\n",
    "     * Get the next question in the shuffled array.\n",
    "     * @returns {string} - The next quiz question.\n",
    "     */\n",
    "    getNextQuestion() {\n",
    "        const question = this.questions[this.currentQuestionIndex];\n",
    "        this.currentQuestionIndex = (this.currentQuestionIndex + 1) % this.questions.length; // Cycle through questions\n",
    "        return question;\n",
    "    }\n",
    "    /**\n",
    "     * Handle proximity interaction and share a quiz question.\n",
    "     */\n",
    "    shareQuizQuestion() {\n",
    "        const players = GameEnv.gameObjects.filter(obj => obj.state.collisionEvents.includes(this.spriteData.id));\n",
    "        const hasQuestions = this.questions.length > 0;\n",
    "        if (players.length > 0 && hasQuestions) {\n",
    "            players.forEach(player => {\n",
    "                if (!Prompt.isOpen) {\n",
    "                    // Assign this Collision as the current Collision in the Prompt system\n",
    "                    Prompt.currentcollision = this;\n",
    "                    // Open the Prompt panel with this Collision's details\n",
    "                    Prompt.openPromptPanel(this);\n",
    "                }\n",
    "            });\n",
    "        }\n",
    "    }\n",
    "}\n",
    "export default Collision;"
   ]
  },
  {
   "cell_type": "markdown",
   "metadata": {},
   "source": [
    "##### Then I implented the format of the collision to the new collision with an blank transparent image of 128 px x 128 px. The code for the collision is here:"
   ]
  },
  {
   "cell_type": "code",
   "execution_count": null,
   "metadata": {
    "vscode": {
     "languageId": "javascript"
    }
   },
   "outputs": [],
   "source": [
    "const sprite_src_colllision = path + \"/images/gamify/collision.png\"; // be sure to include the path\n",
    "      const sprite_data_collision = {\n",
    "          id: 'Collision',\n",
    "          greeting: \"Hi, to move on in this game, you must answer some questions about coding. Press e to answer!\",\n",
    "          src: sprite_src_colllision,\n",
    "          SCALE_FACTOR: 5,  // Adjust this based on your scaling needs\n",
    "          ANIMATION_RATE: 50,\n",
    "          pixels: {height: 128, width: 128},\n",
    "          INIT_POSITION: { x: (width / 6), y: (height * 5/6)},\n",
    "          orientation: {rows: 1, columns: 1 },\n",
    "          down: {row: 1, start: 0, columns: 1 },  // This is the stationary collision\n",
    "          hitbox: { widthPercentage: 0.1, heightPercentage: 0.2 },\n",
    "          // Coding Quiz\n",
    "          quiz: {\n",
    "            \"title\": \"Coding Quiz\",\n",
    "            \"questions\": [\n",
    "              \"Which data structure follows Last In, First Out (LIFO) principle?\\n1. Queue\\n2. Stack\\n3. Linked List\\n4. Heap\",  \n",
    "              \"What is the time complexity of searching an element in a balanced binary search tree (BST)?\\n1. O(1)\\n2. O(log n)\\n3. O(n)\\n4. O(n log n)\",  \n",
    "              \"Which of the following is NOT a valid variable name in Java?\\n1. _myVariable\\n2. 1stVariable\\n3. $money\\n4. camelCase\",  \n",
    "              \"What does the following JavaScript code output?\\nconsole.log(typeof null);\\n1. 'null'\\n2. 'undefined'\\n3. 'object'\\n4. 'string'\",  \n",
    "              \"In SQL, which command is used to remove all records from a table without deleting the table itself?\\n1. DELETE\\n2. DROP\\n3. TRUNCATE\\n4. REMOVE\",  \n",
    "              \"What is the output of the following C code?\\n#include <stdio.h>\\nint main() { int x = 5; printf('%d', x++); return 0; }\\n1. 4\\n2. 5\\n3. 6\\n4. Undefined behavior\",  \n",
    "              \"What will be the output of this Python code?\\nx = [1, 2, 3]\\ny = x\\ny.append(4)\\nprint(x)\\n1. [1, 2, 3]\\n2. [1, 2, 3, 4]\\n3. [1, 2, 3], [1, 2, 3, 4]\\n4. Error\",  \n",
    "              \"What does the len() function return when applied to a dictionary in Python?\\n1. Number of keys\\n2. Number of values\\n3. Number of key-value pairs\\n4. The size in bytes\",  \n",
    "              \"What will be the output of this JavaScript snippet?\\nconsole.log(0 == '0');\\nconsole.log(0 === '0');\\n1. true, true\\n2. false, false\\n3. true, false\\n4. false, true\",  \n",
    "              \"Which sorting algorithm has the worst-case time complexity of O(n²)?\\n1. Merge Sort\\n2. Quick Sort\\n3. Bubble Sort\\n4. Heap Sort\"  \n",
    "            ]\n",
    "          }        \n",
    "        }; \n"
   ]
  },
  {
   "cell_type": "markdown",
   "metadata": {},
   "source": [
    "##### I also had to import: "
   ]
  },
  {
   "cell_type": "code",
   "execution_count": null,
   "metadata": {
    "vscode": {
     "languageId": "javascript"
    }
   },
   "outputs": [],
   "source": [
    "import Collision from './Collision.js'; \n"
   ]
  },
  {
   "cell_type": "markdown",
   "metadata": {},
   "source": [
    "##### I also had to export:"
   ]
  },
  {
   "cell_type": "code",
   "execution_count": null,
   "metadata": {
    "vscode": {
     "languageId": "javascript"
    }
   },
   "outputs": [],
   "source": [
    "{ class: Collision, data: sprite_data_collision}"
   ]
  },
  {
   "cell_type": "markdown",
   "metadata": {},
   "source": [
    "##### It may seem like the collision is exactly the same as an NPC but there are some differences such collision's hitbox increased and the area of the collision that the blank image captures is way more than the regular NPC."
   ]
  }
 ],
 "metadata": {
  "kernelspec": {
   "display_name": "Python 3",
   "language": "python",
   "name": "python3"
  },
  "language_info": {
   "codemirror_mode": {
    "name": "ipython",
    "version": 3
   },
   "file_extension": ".py",
   "mimetype": "text/x-python",
   "name": "python",
   "nbconvert_exporter": "python",
   "pygments_lexer": "ipython3",
   "version": "3.11.9"
  }
 },
 "nbformat": 4,
 "nbformat_minor": 2
}
